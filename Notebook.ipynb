{
 "cells": [
  {
   "cell_type": "markdown",
   "id": "30c35df1-9b58-45d3-b427-9837011a060d",
   "metadata": {},
   "source": [
    "# Notebook"
   ]
  },
  {
   "cell_type": "markdown",
   "id": "229c9c9d-3a08-4beb-b928-67ee863b5e0c",
   "metadata": {},
   "source": [
    "Este cuaderno está diseñado para explorar conceptos básicos de la ciencia de datos.\n"
   ]
  },
  {
   "cell_type": "markdown",
   "id": "11c170c8-4382-4741-b6e0-c781e16243d2",
   "metadata": {},
   "source": [
    "## Lenguajes de la Ciencia de Datos\n",
    "1. Python\n",
    "2. R\n",
    "3. SQL\n",
    "4. Julia\n"
   ]
  },
  {
   "cell_type": "markdown",
   "id": "13f6e4f1-dd40-4a95-a955-d249600e036d",
   "metadata": {},
   "source": [
    "## Bibliotecas de Ciencia de Datos\n",
    "1. Pandas\n",
    "2. NumPy\n",
    "3. Matplotlib\n",
    "4. Scikit-learn\n"
   ]
  },
  {
   "cell_type": "markdown",
   "id": "1d388709-21d0-4f74-b9b8-ffadd3f80709",
   "metadata": {},
   "source": [
    "| Herramienta    | Descripción                       |\n",
    "|----------------|-----------------------------------|\n",
    "| Jupyter Notebook| Entorno interactivo para código   |\n",
    "| RStudio        | IDE para R                        |\n",
    "| Tableau        | Visualización de datos            |\n",
    "| GitHub         | Control de versiones              |\n"
   ]
  },
  {
   "cell_type": "markdown",
   "id": "e84c1413-939d-4902-b388-23ccaddaebac",
   "metadata": {},
   "source": [
    "## Ejemplos de Expresiones Aritméticas\n",
    "- Suma: `2 + 2`\n",
    "- Resta: `5 - 3`\n",
    "- Multiplicación: `4 * 3`\n",
    "- División: `8 / 2`\n"
   ]
  },
  {
   "cell_type": "code",
   "execution_count": 3,
   "id": "633bbd72-5c31-4a1b-8275-2124fa949f39",
   "metadata": {},
   "outputs": [
    {
     "data": {
      "text/plain": [
       "(15, 50)"
      ]
     },
     "execution_count": 3,
     "metadata": {},
     "output_type": "execute_result"
    }
   ],
   "source": [
    "a = 5\n",
    "b = 10\n",
    "suma = a + b\n",
    "multiplicacion = a * b\n",
    "suma, multiplicacion\n"
   ]
  },
  {
   "cell_type": "code",
   "execution_count": 4,
   "id": "e8a7510b-5c2c-4ecb-9fa9-e295f53d20d6",
   "metadata": {},
   "outputs": [
    {
     "data": {
      "text/plain": [
       "2.0"
      ]
     },
     "execution_count": 4,
     "metadata": {},
     "output_type": "execute_result"
    }
   ],
   "source": [
    "def convertir_minutos_a_horas(minutos):\n",
    "    return minutos / 60\n",
    "\n",
    "convertir_minutos_a_horas(120)  # Ejemplo con 120 minutos\n"
   ]
  },
  {
   "cell_type": "code",
   "execution_count": 5,
   "id": "a67b46ee-02f2-48b3-959d-c585a600f6b8",
   "metadata": {},
   "outputs": [
    {
     "name": "stdout",
     "output_type": "stream",
     "text": [
      "['Aprender sobre ciencia de datos', 'Practicar con Jupyter', 'Realizar proyectos']\n"
     ]
    }
   ],
   "source": [
    "objetivos = [\"Aprender sobre ciencia de datos\", \"Practicar con Jupyter\", \"Realizar proyectos\"]\n",
    "print(objetivos)\n"
   ]
  },
  {
   "cell_type": "markdown",
   "id": "8cd2e822-9a5a-4e61-9eb4-e5abcb2858f2",
   "metadata": {},
   "source": [
    "## Autor\n",
    "Nombre del Autor: Elvis Matias Carrasco Baez\n"
   ]
  }
 ],
 "metadata": {
  "kernelspec": {
   "display_name": "Python 3 (ipykernel)",
   "language": "python",
   "name": "python3"
  },
  "language_info": {
   "codemirror_mode": {
    "name": "ipython",
    "version": 3
   },
   "file_extension": ".py",
   "mimetype": "text/x-python",
   "name": "python",
   "nbconvert_exporter": "python",
   "pygments_lexer": "ipython3",
   "version": "3.11.9"
  }
 },
 "nbformat": 4,
 "nbformat_minor": 5
}
